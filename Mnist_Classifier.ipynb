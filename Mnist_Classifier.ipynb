{
  "nbformat": 4,
  "nbformat_minor": 0,
  "metadata": {
    "colab": {
      "name": "Mnist_Classifier.ipynb",
      "provenance": [],
      "collapsed_sections": [],
      "authorship_tag": "ABX9TyOaVRGX1/jqCFhlOrCS3Y5y"
    },
    "kernelspec": {
      "name": "python3",
      "display_name": "Python 3"
    },
    "language_info": {
      "name": "python"
    }
  },
  "cells": [
    {
      "cell_type": "code",
      "execution_count": null,
      "metadata": {
        "id": "RyTGntmeVKP9"
      },
      "outputs": [],
      "source": [
        "import numpy as np\n",
        "import keras\n",
        "from keras.datasets import mnist\n",
        "from keras.models import Model\n",
        "from keras.layers import Dense, Input\n",
        "from keras.layers import Conv2D, MaxPooling2D, Dropout, Flatten\n",
        "from keras import backend as k"
      ]
    },
    {
      "cell_type": "code",
      "source": [
        "(x_train, y_train), (x_test, y_test) = mnist.load_data()"
      ],
      "metadata": {
        "colab": {
          "base_uri": "https://localhost:8080/"
        },
        "id": "U8qfupBmXc9O",
        "outputId": "a5c65708-a417-4e67-a213-f4d99bec2f42"
      },
      "execution_count": null,
      "outputs": [
        {
          "output_type": "stream",
          "name": "stdout",
          "text": [
            "Downloading data from https://storage.googleapis.com/tensorflow/tf-keras-datasets/mnist.npz\n",
            "11493376/11490434 [==============================] - 0s 0us/step\n",
            "11501568/11490434 [==============================] - 0s 0us/step\n"
          ]
        }
      ]
    },
    {
      "cell_type": "code",
      "source": [
        "img_rows, img_cols = 28, 28\n",
        "\n",
        "if k.image_data_format() == 'channels_first':\n",
        "  x_train = x_train.reshape(x_train.shape[0], 1, img_rows, img_cols)\n",
        "  x_test = x_test.reshape(x_test.shape[0], 1, img_rows, img_cols)\n",
        "  inpx = (1, img_rows, img_cols)\n",
        "\n",
        "else:\n",
        "  x_train = x_train.reshape(x_train.shape[0], img_rows, img_cols, 1)\n",
        "  x_test = x_test.reshape(x_test.shape[0], img_rows, img_cols, 1)\n",
        "  inpx = (img_rows, img_cols, 1)\n",
        "\n",
        "x_train = x_train.astype('float32')\n",
        "x_test = x_test.astype('float32')\n",
        "x_train /= 255\n",
        "x_test /= 255"
      ],
      "metadata": {
        "id": "NFbd6kDyu6sr"
      },
      "execution_count": null,
      "outputs": []
    },
    {
      "cell_type": "markdown",
      "source": [
        "Since the output of the model can comprise any of the digits between 0 to 9. so, we need 10 classes in output. To make output for 10 classes, use keras.utils.to_categorical function, which will provide the 10 columns. Out of these 10 columns, only one value will be one and the rest 9 will be zero and this one value of the output will denote the class of the digit.\n",
        " "
      ],
      "metadata": {
        "id": "z_kBWXGlxfRC"
      }
    },
    {
      "cell_type": "code",
      "source": [
        "from keras.utils import np_utils\n",
        "\n",
        "y_train = keras.utils.np_utils.to_categorical(y_train)\n",
        "y_test = keras.utils.np_utils.to_categorical(y_test)"
      ],
      "metadata": {
        "id": "yNKkREgDxRf3"
      },
      "execution_count": null,
      "outputs": []
    },
    {
      "cell_type": "code",
      "source": [
        "inpx = Input(shape=inpx)\n",
        "layer1 = Conv2D(32, kernel_size=(3, 3), activation='relu')(inpx)\n",
        "layer2 = Conv2D(64, (3, 3), activation='relu')(layer1)\n",
        "layer3 = MaxPooling2D(pool_size=(3, 3))(layer2)\n",
        "layer4 = Dropout(0.5)(layer3)\n",
        "layer5 = Flatten()(layer4)\n",
        "layer6 = Dense(250, activation='sigmoid')(layer5)\n",
        "layer7 = Dense(10, activation='softmax')(layer6)"
      ],
      "metadata": {
        "id": "AjVdcRkkyKjG"
      },
      "execution_count": null,
      "outputs": []
    },
    {
      "cell_type": "markdown",
      "source": [
        "### Explanation of the working of each layer in the CNN model:\n",
        "layer1 is the Conv2d layer which convolves the image using 32 filters each of size (3*3). \n",
        "layer2 is again a Conv2D layer which is also used to convolve the image and is using 64 filters each of size (3*3). \n",
        "layer3 is the MaxPooling2D layer which picks the max value out of a matrix of size (3*3). \n",
        "layer4 is showing Dropout at a rate of 0.5. \n",
        "layer5 is flattening the output obtained from layer4 and this flattens output is passed to layer6. \n",
        "layer6 is a hidden layer of a neural network containing 250 neurons. \n",
        "layer7 is the output layer having 10 neurons for 10 classes of output that is using the softmax function."
      ],
      "metadata": {
        "id": "jZst1PTR335p"
      }
    },
    {
      "cell_type": "code",
      "source": [
        "y_train.shape"
      ],
      "metadata": {
        "colab": {
          "base_uri": "https://localhost:8080/"
        },
        "id": "_kNyXFl369F9",
        "outputId": "d5803321-b4f8-4624-ac69-19063e4d1f12"
      },
      "execution_count": null,
      "outputs": [
        {
          "output_type": "execute_result",
          "data": {
            "text/plain": [
              "(60000, 10)"
            ]
          },
          "metadata": {},
          "execution_count": 6
        }
      ]
    },
    {
      "cell_type": "code",
      "source": [
        "model = Model([inpx], layer7)\n",
        "model.compile(optimizer='adam',\n",
        "              loss=keras.losses.categorical_crossentropy,\n",
        "              metrics=['accuracy'])\n",
        " \n",
        "model.fit(x_train, y_train, epochs=12, batch_size=500)"
      ],
      "metadata": {
        "colab": {
          "base_uri": "https://localhost:8080/"
        },
        "id": "lvMLqqKS3JVE",
        "outputId": "530deb2a-3447-41d6-be29-eb2fe5762a18"
      },
      "execution_count": null,
      "outputs": [
        {
          "output_type": "stream",
          "name": "stdout",
          "text": [
            "Epoch 1/12\n",
            "120/120 [==============================] - 119s 984ms/step - loss: 0.5095 - accuracy: 0.8550\n",
            "Epoch 2/12\n",
            "120/120 [==============================] - 132s 1s/step - loss: 0.1254 - accuracy: 0.9647\n",
            "Epoch 3/12\n",
            "120/120 [==============================] - 116s 967ms/step - loss: 0.0834 - accuracy: 0.9766\n",
            "Epoch 4/12\n",
            "120/120 [==============================] - 115s 960ms/step - loss: 0.0640 - accuracy: 0.9818\n",
            "Epoch 5/12\n",
            "120/120 [==============================] - 115s 959ms/step - loss: 0.0535 - accuracy: 0.9845\n",
            "Epoch 6/12\n",
            "120/120 [==============================] - 114s 953ms/step - loss: 0.0460 - accuracy: 0.9867\n",
            "Epoch 7/12\n",
            "120/120 [==============================] - 115s 956ms/step - loss: 0.0386 - accuracy: 0.9890\n",
            "Epoch 8/12\n",
            "120/120 [==============================] - 115s 955ms/step - loss: 0.0349 - accuracy: 0.9902\n",
            "Epoch 9/12\n",
            "120/120 [==============================] - 114s 952ms/step - loss: 0.0309 - accuracy: 0.9913\n",
            "Epoch 10/12\n",
            "120/120 [==============================] - 114s 951ms/step - loss: 0.0272 - accuracy: 0.9921\n",
            "Epoch 11/12\n",
            "120/120 [==============================] - 114s 952ms/step - loss: 0.0251 - accuracy: 0.9928\n",
            "Epoch 12/12\n",
            "120/120 [==============================] - 114s 951ms/step - loss: 0.0230 - accuracy: 0.9933\n"
          ]
        },
        {
          "output_type": "execute_result",
          "data": {
            "text/plain": [
              "<keras.callbacks.History at 0x7f609c322d90>"
            ]
          },
          "metadata": {},
          "execution_count": 8
        }
      ]
    },
    {
      "cell_type": "code",
      "source": [
        "score = model.evaluate(x_test, y_test)\n",
        "print('loss = ', score[0])\n",
        "print('accuracy = ', score[1])"
      ],
      "metadata": {
        "colab": {
          "base_uri": "https://localhost:8080/"
        },
        "id": "bZHD5guJ51Qu",
        "outputId": "7042dd11-41bd-47d6-c164-8cb424029938"
      },
      "execution_count": null,
      "outputs": [
        {
          "output_type": "stream",
          "name": "stdout",
          "text": [
            "313/313 [==============================] - 6s 19ms/step - loss: 0.0268 - accuracy: 0.9915\n",
            "loss =  0.026800546795129776\n",
            "accuracy =  0.9915000200271606\n"
          ]
        }
      ]
    },
    {
      "cell_type": "code",
      "source": [
        ""
      ],
      "metadata": {
        "id": "oPMRBcmXW3ar"
      },
      "execution_count": null,
      "outputs": []
    }
  ]
}